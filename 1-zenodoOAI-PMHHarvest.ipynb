{
 "cells": [
  {
   "cell_type": "code",
   "execution_count": null,
   "metadata": {
    "collapsed": false
   },
   "outputs": [],
   "source": [
    "import requests\n",
    "import xml.etree.ElementTree as ET\n",
    "import time"
   ]
  },
  {
   "cell_type": "code",
   "execution_count": null,
   "metadata": {
    "collapsed": false
   },
   "outputs": [],
   "source": [
    "#define variables for queries\n",
    "zenodobaseurl = \"https://zenodo.org/oai2d?verb=ListRecords&\"\n",
    "initialquery = \"metadataPrefix=oai_datacite3&set=user-zenodo\"\n",
    "resumptiontokenquery = \"resumptionToken=\"\n",
    "results = requests.get(zenodobaseurl+initialquery)"
   ]
  },
  {
   "cell_type": "code",
   "execution_count": null,
   "metadata": {
    "collapsed": false
   },
   "outputs": [],
   "source": [
    "root = ET.fromstring(results.content)\n",
    "tree = ET.ElementTree(root)"
   ]
  },
  {
   "cell_type": "code",
   "execution_count": null,
   "metadata": {
    "collapsed": false
   },
   "outputs": [],
   "source": [
    "listofrecords = root.findall('{http://www.openarchives.org/OAI/2.0/}ListRecords')[0]"
   ]
  },
  {
   "cell_type": "code",
   "execution_count": null,
   "metadata": {
    "collapsed": false
   },
   "outputs": [],
   "source": [
    "#gets a resumption token\n",
    "#makes resumption token False if there isn't one\n",
    "def getresumptiontoken(theroot):\n",
    "    global resumptiontoken\n",
    "    for child in theroot.findall('{http://www.openarchives.org/OAI/2.0/}ListRecords'):\n",
    "        if child.findall('{http://www.openarchives.org/OAI/2.0/}resumptionToken'):\n",
    "            for grandchild in child.findall('{http://www.openarchives.org/OAI/2.0/}resumptionToken'):\n",
    "                resumptiontoken = grandchild.text\n",
    "        else:\n",
    "            resumptiontoken = False\n",
    "    #return resumptiontoken"
   ]
  },
  {
   "cell_type": "code",
   "execution_count": null,
   "metadata": {
    "collapsed": false
   },
   "outputs": [],
   "source": [
    "getresumptiontoken(root)"
   ]
  },
  {
   "cell_type": "code",
   "execution_count": null,
   "metadata": {
    "collapsed": false
   },
   "outputs": [],
   "source": [
    "print(resumptiontoken)"
   ]
  },
  {
   "cell_type": "code",
   "execution_count": null,
   "metadata": {
    "collapsed": false
   },
   "outputs": [],
   "source": [
    "#uses the resumption token to get more results\n",
    "#new results are appended to the current results in listofrecords\n",
    "#continues to loop until there is no longer a resumption token\n",
    "while resumptiontoken:\n",
    "    newresults = requests.get(zenodobaseurl+resumptiontokenquery+resumptiontoken)\n",
    "    newroot = ET.fromstring(newresults.content)\n",
    "    for child in newroot.findall('{http://www.openarchives.org/OAI/2.0/}ListRecords'):\n",
    "        for grandchild in child.iter('{http://www.openarchives.org/OAI/2.0/}record'):\n",
    "            listofrecords.append(grandchild)\n",
    "    getresumptiontoken(newroot)\n",
    "    print(resumptiontoken)\n",
    "    time.sleep(2.5)"
   ]
  },
  {
   "cell_type": "code",
   "execution_count": null,
   "metadata": {
    "collapsed": false
   },
   "outputs": [],
   "source": [
    "tree.write('zenodoresults4-7-2015.xml')"
   ]
  }
 ],
 "metadata": {
  "kernelspec": {
   "display_name": "Python 3",
   "language": "python",
   "name": "python3"
  },
  "language_info": {
   "codemirror_mode": {
    "name": "ipython",
    "version": 3
   },
   "file_extension": ".py",
   "mimetype": "text/x-python",
   "name": "python",
   "nbconvert_exporter": "python",
   "pygments_lexer": "ipython3",
   "version": "3.5.0"
  }
 },
 "nbformat": 4,
 "nbformat_minor": 0
}
