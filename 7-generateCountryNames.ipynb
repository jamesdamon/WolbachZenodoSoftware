{
 "cells": [
  {
   "cell_type": "code",
   "execution_count": null,
   "metadata": {
    "collapsed": true
   },
   "outputs": [],
   "source": [
    "#This is a script to use locations.csv and the Google Maps API to use location information\n",
    "#from Github to identify the country of the individual or organization and output countrylist.csv."
   ]
  },
  {
   "cell_type": "code",
   "execution_count": null,
   "metadata": {
    "collapsed": false
   },
   "outputs": [],
   "source": [
    "import csv\n",
    "import requests\n",
    "import time\n",
    "import json"
   ]
  },
  {
   "cell_type": "code",
   "execution_count": null,
   "metadata": {
    "collapsed": false
   },
   "outputs": [],
   "source": [
    "locationlist = []\n",
    "with open('locations.csv', 'r') as f:\n",
    "    mycsv = csv.reader(f)\n",
    "    for row in mycsv:\n",
    "        locationlist.append(row[0])\n",
    "        print row[0]\n",
    "f.closed"
   ]
  },
  {
   "cell_type": "code",
   "execution_count": null,
   "metadata": {
    "collapsed": false
   },
   "outputs": [],
   "source": [
    "with open('myAPIKey.txt', 'r') as f:\n",
    "    apikey = f.read()"
   ]
  },
  {
   "cell_type": "code",
   "execution_count": null,
   "metadata": {
    "collapsed": false
   },
   "outputs": [],
   "source": [
    "urlpre = 'https://maps.googleapis.com/maps/api/geocode/json?address='\n",
    "urlsuf = '&key=' + apikey"
   ]
  },
  {
   "cell_type": "code",
   "execution_count": null,
   "metadata": {
    "collapsed": false
   },
   "outputs": [],
   "source": [
    "resolvedcountries = []\n",
    "for location in locationlist:\n",
    "    url = urlpre + location + urlsuf\n",
    "    #print url\n",
    "    results = requests.get(url)\n",
    "    jsonresults = json.loads(results.text)\n",
    "    print '--'\n",
    "    print location\n",
    "    if jsonresults['results'][0]['address_components']:\n",
    "        for item in jsonresults['results'][0]['address_components']:\n",
    "            if item['types'][0] == 'country':\n",
    "                country = item['long_name']\n",
    "                resolvedcountries.append(country)\n",
    "                print country\n",
    "    else:\n",
    "        print 'no address components'\n",
    "    time.sleep(.4)"
   ]
  },
  {
   "cell_type": "code",
   "execution_count": null,
   "metadata": {
    "collapsed": false
   },
   "outputs": [],
   "source": [
    "print len(finallist)\n",
    "print len(resolvedcountries)"
   ]
  },
  {
   "cell_type": "code",
   "execution_count": null,
   "metadata": {
    "collapsed": false
   },
   "outputs": [],
   "source": [
    "with open('countrylist.csv', 'wb') as f:\n",
    "    for i in resolvedcountries:\n",
    "        try:\n",
    "            f.write(str(i).replace('\"', \"'\").replace('\\\\', ' ') + '\\r\\n')\n",
    "        except:\n",
    "           f.write(i.encode('UTF-8').replace('\"', \"'\").replace('\\\\', ' ') + '\\r\\n')"
   ]
  }
 ],
 "metadata": {
  "kernelspec": {
   "display_name": "Python 3",
   "language": "python",
   "name": "python3"
  },
  "language_info": {
   "codemirror_mode": {
    "name": "ipython",
    "version": 3
   },
   "file_extension": ".py",
   "mimetype": "text/x-python",
   "name": "python",
   "nbconvert_exporter": "python",
   "pygments_lexer": "ipython3",
   "version": "3.5.0"
  }
 },
 "nbformat": 4,
 "nbformat_minor": 0
}
