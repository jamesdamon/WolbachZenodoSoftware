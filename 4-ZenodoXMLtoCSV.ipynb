{
 "cells": [
  {
   "cell_type": "code",
   "execution_count": null,
   "metadata": {
    "collapsed": false
   },
   "outputs": [],
   "source": [
    "# This script is designed to output a csv of selected fields taken from an XML file\n",
    "# It creates a list of each type of field, combines the lists into a dataframe, and saves as CSV\n",
    "# To refine this script I would recommend creating a single function that takes the desired field names\n",
    "# Most of the inefficiency of this script is from repeating the search for selected fields within the XML\n",
    "# Since the process has not been made into a function, it is not scalable at the moment"
   ]
  },
  {
   "cell_type": "code",
   "execution_count": null,
   "metadata": {
    "collapsed": false
   },
   "outputs": [],
   "source": [
    "import xml.etree.ElementTree as ET\n",
    "import re\n",
    "import numpy\n",
    "import pandas as pd"
   ]
  },
  {
   "cell_type": "code",
   "execution_count": null,
   "metadata": {
    "collapsed": false
   },
   "outputs": [],
   "source": [
    "tree = ET.parse('ZenodoSoftwareGithub4-7-2015.xml')\n",
    "root = tree.getroot()"
   ]
  },
  {
   "cell_type": "code",
   "execution_count": null,
   "metadata": {
    "collapsed": false
   },
   "outputs": [],
   "source": [
    "# title\n",
    "for parent in root.findall('{http://www.openarchives.org/OAI/2.0/}ListRecords'):\n",
    "    titles = []\n",
    "    for record in parent.findall('{http://www.openarchives.org/OAI/2.0/}record'):\n",
    "        titles.append(record.find(\".//{http://datacite.org/schema/kernel-3}title\").text)"
   ]
  },
  {
   "cell_type": "code",
   "execution_count": null,
   "metadata": {
    "collapsed": false
   },
   "outputs": [],
   "source": [
    "# record number\n",
    "print(len(titles))\n",
    "recordnum = range(1,len(titles)+1)"
   ]
  },
  {
   "cell_type": "code",
   "execution_count": null,
   "metadata": {
    "collapsed": false
   },
   "outputs": [],
   "source": [
    "# number of collaborators\n",
    "for parent in root.findall('{http://www.openarchives.org/OAI/2.0/}ListRecords'):\n",
    "    numofcreators = []\n",
    "    for record in parent.findall('{http://www.openarchives.org/OAI/2.0/}record'):\n",
    "        numofcreators.append(len(record.findall(\".//{http://datacite.org/schema/kernel-3}creatorName\")))"
   ]
  },
  {
   "cell_type": "code",
   "execution_count": null,
   "metadata": {
    "collapsed": false
   },
   "outputs": [],
   "source": [
    "# date issued\n",
    "for parent in root.findall('{http://www.openarchives.org/OAI/2.0/}ListRecords'):\n",
    "    issuedates = []\n",
    "    for record in parent.findall('{http://www.openarchives.org/OAI/2.0/}record'):\n",
    "        issuedates.append(record.find(\".//{http://datacite.org/schema/kernel-3}date\").text)"
   ]
  },
  {
   "cell_type": "code",
   "execution_count": null,
   "metadata": {
    "collapsed": false
   },
   "outputs": [],
   "source": [
    "# creator names\n",
    "for parent in root.findall('{http://www.openarchives.org/OAI/2.0/}ListRecords'):\n",
    "    creatornames = []\n",
    "    for record in parent.findall('{http://www.openarchives.org/OAI/2.0/}record'):\n",
    "        recordcreators = []\n",
    "        for eachcreator in record.findall(\".//{http://datacite.org/schema/kernel-3}creatorName\"):\n",
    "            recordcreators.append(eachcreator.text)\n",
    "        creatornames.append(', '.join(recordcreators))"
   ]
  },
  {
   "cell_type": "code",
   "execution_count": null,
   "metadata": {
    "collapsed": false
   },
   "outputs": [],
   "source": [
    "# subject\n",
    "for parent in root.findall('{http://www.openarchives.org/OAI/2.0/}ListRecords'):\n",
    "    subjects = []\n",
    "    for record in parent.findall('{http://www.openarchives.org/OAI/2.0/}record'):\n",
    "        recordsubjects = []\n",
    "        if record.findall(\".//{http://datacite.org/schema/kernel-3}subject\"):\n",
    "            for eachsubject in record.findall(\".//{http://datacite.org/schema/kernel-3}subject\"):\n",
    "                recordsubjects.append(eachsubject.text)\n",
    "            subjects.append(', '.join(recordsubjects))\n",
    "        else:\n",
    "            subjects.append('no subject')"
   ]
  },
  {
   "cell_type": "code",
   "execution_count": null,
   "metadata": {
    "collapsed": false
   },
   "outputs": [],
   "source": [
    "# rights\n",
    "for parent in root.findall('{http://www.openarchives.org/OAI/2.0/}ListRecords'):\n",
    "    rights1 = []\n",
    "    rights2 = []\n",
    "    for record in parent.findall('{http://www.openarchives.org/OAI/2.0/}record'):\n",
    "        recordrights = []\n",
    "        for eachright in record.findall(\".//{http://datacite.org/schema/kernel-3}rights\"):\n",
    "            recordrights.append(eachright.text)\n",
    "        rights1.append(recordrights[0])\n",
    "        if len(recordrights) == 2:\n",
    "            rights2.append(recordrights[1])\n",
    "        elif len(recordrights) == 1:\n",
    "            rights2.append('-')"
   ]
  },
  {
   "cell_type": "code",
   "execution_count": null,
   "metadata": {
    "collapsed": false
   },
   "outputs": [],
   "source": [
    "# url\n",
    "for parent in root.findall('{http://www.openarchives.org/OAI/2.0/}ListRecords'):\n",
    "    urls = []\n",
    "    for record in parent.findall('{http://www.openarchives.org/OAI/2.0/}record'):\n",
    "        recordurls = []\n",
    "        for relatedidentifier in record.findall(\".//{http://datacite.org/schema/kernel-3}relatedIdentifier[@relatedIdentifierType='URL']\"):\n",
    "                identifierstring = relatedidentifier.text\n",
    "                results = re.search(r'github', identifierstring)\n",
    "                if results:\n",
    "                    recordurls.append(identifierstring)\n",
    "        urls.append(', '.join(recordurls))\n",
    "        #if len(recordurls) > 1:\n",
    "        #    print recordurls"
   ]
  },
  {
   "cell_type": "code",
   "execution_count": null,
   "metadata": {
    "collapsed": false
   },
   "outputs": [],
   "source": [
    "# zenodo url\n",
    "for parent in root.findall('{http://www.openarchives.org/OAI/2.0/}ListRecords'):\n",
    "    zenodo = []\n",
    "    for record in parent.findall('{http://www.openarchives.org/OAI/2.0/}record'):\n",
    "        #recordurls = []\n",
    "        for alternateidentifier in record.findall(\".//{http://datacite.org/schema/kernel-3}alternateIdentifier\"):\n",
    "            identifierstring = alternateidentifier.text\n",
    "            #recordurls.append(identifierstring)\n",
    "            zenodo.append(identifierstring)"
   ]
  },
  {
   "cell_type": "code",
   "execution_count": null,
   "metadata": {
    "collapsed": false
   },
   "outputs": [],
   "source": [
    "outputarray = numpy.column_stack((recordnum, titles, numofcreators, creatornames, issuedates, subjects, rights1, rights2, urls, zenodo))"
   ]
  },
  {
   "cell_type": "code",
   "execution_count": null,
   "metadata": {
    "collapsed": false
   },
   "outputs": [],
   "source": [
    "df = pd.DataFrame(outputarray)"
   ]
  },
  {
   "cell_type": "code",
   "execution_count": null,
   "metadata": {
    "collapsed": false
   },
   "outputs": [],
   "source": [
    "df.to_csv('ZenodoSoftwareGithubData4-7-2015.csv', encoding='utf-8')"
   ]
  }
 ],
 "metadata": {
  "kernelspec": {
   "display_name": "Python 3",
   "language": "python",
   "name": "python3"
  },
  "language_info": {
   "codemirror_mode": {
    "name": "ipython",
    "version": 3
   },
   "file_extension": ".py",
   "mimetype": "text/x-python",
   "name": "python",
   "nbconvert_exporter": "python",
   "pygments_lexer": "ipython3",
   "version": "3.5.0"
  }
 },
 "nbformat": 4,
 "nbformat_minor": 0
}
