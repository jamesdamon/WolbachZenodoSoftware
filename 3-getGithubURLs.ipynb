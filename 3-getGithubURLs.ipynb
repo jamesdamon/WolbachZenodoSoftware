{
 "cells": [
  {
   "cell_type": "code",
   "execution_count": null,
   "metadata": {
    "collapsed": false
   },
   "outputs": [],
   "source": [
    "import xml.etree.ElementTree as ET\n",
    "import re"
   ]
  },
  {
   "cell_type": "code",
   "execution_count": null,
   "metadata": {
    "collapsed": false
   },
   "outputs": [],
   "source": [
    "tree = ET.parse('ZenodoSoftware4-7-2015.xml')\n",
    "root = tree.getroot()"
   ]
  },
  {
   "cell_type": "code",
   "execution_count": null,
   "metadata": {
    "collapsed": false
   },
   "outputs": [],
   "source": [
    "#find urls that contain github\n",
    "for parent in root.findall('{http://www.openarchives.org/OAI/2.0/}ListRecords'):\n",
    "    githubtotalcount = 0\n",
    "    for record in parent.findall('{http://www.openarchives.org/OAI/2.0/}record'):\n",
    "        githubcount = 0\n",
    "        for relatedidentifier in record.findall(\".//{http://datacite.org/schema/kernel-3}relatedIdentifier[@relatedIdentifierType='URL']\"):\n",
    "            githubtotalcount += 1\n",
    "            identifierstring = relatedidentifier.text\n",
    "            print(identifierstring)\n",
    "            results = re.search(r'github', identifierstring)\n",
    "            if results:\n",
    "                print('match')\n",
    "                githubcount += 1\n",
    "            print(githubcount)\n",
    "        if githubcount < 1:\n",
    "            parent.remove(record)\n",
    "    print(githubtotalcount)"
   ]
  },
  {
   "cell_type": "code",
   "execution_count": null,
   "metadata": {
    "collapsed": false
   },
   "outputs": [],
   "source": [
    "tree.write('ZenodoSoftwareGithub4-7-2015.xml')"
   ]
  }
 ],
 "metadata": {
  "kernelspec": {
   "display_name": "Python 3",
   "language": "python",
   "name": "python3"
  },
  "language_info": {
   "codemirror_mode": {
    "name": "ipython",
    "version": 3
   },
   "file_extension": ".py",
   "mimetype": "text/x-python",
   "name": "python",
   "nbconvert_exporter": "python",
   "pygments_lexer": "ipython3",
   "version": "3.5.0"
  }
 },
 "nbformat": 4,
 "nbformat_minor": 0
}
