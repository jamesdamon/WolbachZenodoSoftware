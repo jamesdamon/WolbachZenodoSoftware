{
 "cells": [
  {
   "cell_type": "code",
   "execution_count": null,
   "metadata": {
    "collapsed": false
   },
   "outputs": [],
   "source": [
    "import requests\n",
    "import json\n",
    "import time\n",
    "import re\n",
    "import csv"
   ]
  },
  {
   "cell_type": "code",
   "execution_count": null,
   "metadata": {
    "collapsed": false
   },
   "outputs": [],
   "source": [
    "#Must have OAuth Token from Github\n",
    "with open('myOAuthToken.txt', 'r') as f:\n",
    "    oauthtoken = f.read()\n",
    "authorization = requests.auth.HTTPBasicAuth(oauthtoken, '')"
   ]
  },
  {
   "cell_type": "code",
   "execution_count": null,
   "metadata": {
    "collapsed": false
   },
   "outputs": [],
   "source": [
    "def itsgithubcom(url):\n",
    "    return re.search(r'github.com/', url)\n",
    "\n",
    "def makerepoquery(url):\n",
    "    base = 'https://api.github.com/repos/'\n",
    "    spliturl = url.split('/')\n",
    "    repo = spliturl[3] + '/' + spliturl[4]\n",
    "    apiquery = base + repo\n",
    "    return apiquery"
   ]
  },
  {
   "cell_type": "code",
   "execution_count": null,
   "metadata": {
    "collapsed": false
   },
   "outputs": [],
   "source": [
    "#define outputs\n",
    "listtowrite = []\n",
    "repocolumnstoadd = ['name', 'created_at', 'updated_at', 'size',\n",
    "                    'stargazers_count', 'watchers_count',\n",
    "                    'language', 'forks_count', 'has_wiki',\n",
    "                    'has_pages', 'subscribers_count']\n",
    "ownercolumnstoadd = ['type', 'name', 'company', 'blog',\n",
    "                     'location', 'email', 'bio', 'public_repos',\n",
    "                     'public_gists', 'followers', 'following',\n",
    "                     'created_at', 'updated_at']"
   ]
  },
  {
   "cell_type": "code",
   "execution_count": null,
   "metadata": {
    "collapsed": false
   },
   "outputs": [],
   "source": [
    "#get the results\n",
    "with open('ZenodoSoftwareGithubData4-7-2015.csv', 'r') as f:\n",
    "    mycsv = csv.reader(f)\n",
    "    for row in mycsv:\n",
    "        url = row[9]\n",
    "        if itsgithubcom(url):\n",
    "            apiquery = makerepoquery(url)\n",
    "            results = requests.get(apiquery, auth=authorization)\n",
    "            jsonresults = json.loads(results.text)\n",
    "            if 'owner' in jsonresults:\n",
    "                ownerquery = jsonresults['owner']['url']\n",
    "                ownerresults = requests.get(ownerquery, auth=authorization)\n",
    "                jsonownerresults = json.loads(ownerresults.text)\n",
    "                row.append(apiquery)\n",
    "                for column in repocolumnstoadd:\n",
    "                    if column in jsonresults:\n",
    "                        row.append(jsonresults[column])\n",
    "                    else:\n",
    "                        row.append('')\n",
    "                for column2 in ownercolumnstoadd:\n",
    "                    if column2 in jsonownerresults:\n",
    "                        row.append(jsonownerresults[column2])\n",
    "                    else:\n",
    "                        row.append('')\n",
    "                print(row)\n",
    "            else:\n",
    "                row.append('manual lookup needed')\n",
    "                print('manual lookup needed')\n",
    "        else:\n",
    "            print('not repo')\n",
    "        listtowrite.append(row)\n",
    "        time.sleep(2)\n",
    "f.closed"
   ]
  },
  {
   "cell_type": "code",
   "execution_count": null,
   "metadata": {
    "collapsed": false
   },
   "outputs": [],
   "source": [
    "#make the csv\n",
    "with open('ZenodoGithubOutput4-15-2015.csv', 'wb') as f:\n",
    "    for i in listtowrite:\n",
    "        for j in i:\n",
    "            try:\n",
    "                f.write('\\\"' + str(j).replace('\"', \"'\") + '\\\"' + ',')\n",
    "            except:\n",
    "                f.write('\\\"' + j.encode('UTF-8').replace('\"', \"'\") + '\\\"' + ',')\n",
    "        f.write('\\r\\n')"
   ]
  }
 ],
 "metadata": {
  "kernelspec": {
   "display_name": "Python 3",
   "language": "python",
   "name": "python3"
  },
  "language_info": {
   "codemirror_mode": {
    "name": "ipython",
    "version": 3
   },
   "file_extension": ".py",
   "mimetype": "text/x-python",
   "name": "python",
   "nbconvert_exporter": "python",
   "pygments_lexer": "ipython3",
   "version": "3.5.0"
  }
 },
 "nbformat": 4,
 "nbformat_minor": 0
}
