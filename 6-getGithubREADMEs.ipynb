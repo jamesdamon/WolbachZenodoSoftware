{
 "cells": [
  {
   "cell_type": "code",
   "execution_count": null,
   "metadata": {
    "collapsed": false
   },
   "outputs": [],
   "source": [
    "#This script goes through the Github repos in the csv and gets the READMEs from Github.\n",
    "#The output is a csv of the README text.\n",
    "\n",
    "import csv\n",
    "import requests\n",
    "import time"
   ]
  },
  {
   "cell_type": "code",
   "execution_count": null,
   "metadata": {
    "collapsed": false
   },
   "outputs": [],
   "source": [
    "def makereadmeurl(url):\n",
    "    prefix = 'https://raw.githubusercontent.com/'\n",
    "    suffix = '/master/README.md'\n",
    "    spliturl = url.split('/')\n",
    "    if len(spliturl) == 6:\n",
    "        repo = spliturl[4] + '/' + spliturl[5]\n",
    "        apiquery = prefix + repo + suffix\n",
    "    else:\n",
    "        apiquery = 'no repo'\n",
    "    return apiquery"
   ]
  },
  {
   "cell_type": "code",
   "execution_count": null,
   "metadata": {
    "collapsed": false
   },
   "outputs": [],
   "source": [
    "githubapilist = []\n",
    "with open('ZenodoGithubOutput.csv', 'r') as f:\n",
    "    mycsv = csv.reader(f)\n",
    "    for row in mycsv:\n",
    "        githubapilist.append(row[10])\n",
    "        #print row[10]\n",
    "f.closed"
   ]
  },
  {
   "cell_type": "code",
   "execution_count": null,
   "metadata": {
    "collapsed": false
   },
   "outputs": [],
   "source": [
    "readmeurls = []\n",
    "for row in githubapilist:\n",
    "    readmeurl = makereadmeurl(row)\n",
    "    readmeurls.append(readmeurl)"
   ]
  },
  {
   "cell_type": "code",
   "execution_count": null,
   "metadata": {
    "collapsed": false
   },
   "outputs": [],
   "source": [
    "readmetext = []\n",
    "for url in readmeurls:\n",
    "    try:\n",
    "        results = requests.get(url)\n",
    "        #print results\n",
    "        readmetext.append(results.text)\n",
    "    except:\n",
    "        if url == 'no repo':\n",
    "            #print url\n",
    "            readmetext.append(url)\n",
    "        else:\n",
    "            #print 'investigate' + url\n",
    "            readmetext.append('investigate' + url)\n",
    "    time.sleep(1)"
   ]
  },
  {
   "cell_type": "code",
   "execution_count": null,
   "metadata": {
    "collapsed": false
   },
   "outputs": [],
   "source": [
    "#find the average length of the README files\n",
    "listoflengths = []\n",
    "totallength = 0\n",
    "for text in readmetext:\n",
    "    listoflengths.append(len(text))\n",
    "for length in listoflengths:\n",
    "    totallength += length\n",
    "avglength = totallength/len(listoflengths)\n",
    "print(avglength)"
   ]
  },
  {
   "cell_type": "code",
   "execution_count": null,
   "metadata": {
    "collapsed": false
   },
   "outputs": [],
   "source": [
    "readmestooutput = []\n",
    "for text in readmetext:\n",
    "    removednewlines = text.replace('\\n', ' ').replace('\\r', '').encode(\"utf-8\")\n",
    "    readmetooutput = removednewlines.decode('unicode_escape').encode('ascii','ignore')\n",
    "    readmestooutput.append(readmetooutput)"
   ]
  },
  {
   "cell_type": "code",
   "execution_count": null,
   "metadata": {
    "collapsed": false
   },
   "outputs": [],
   "source": [
    "#remove strings of duplicate special characters\n",
    "charactersremoved = []\n",
    "for text in readmestooutput:\n",
    "    workingtext = text\n",
    "    while '==' in workingtext:\n",
    "        workingtext = workingtext.replace('==', '=')\n",
    "    while '--' in workingtext:\n",
    "        workingtext = workingtext.replace('--', '-')\n",
    "    while '**' in workingtext:\n",
    "        workingtext = workingtext.replace('**', '*')\n",
    "    while '##' in workingtext:\n",
    "        workingtext = workingtext.replace('##', '#')\n",
    "    workingtext = ' '.join(workingtext.split())\n",
    "    charactersremoved.append(workingtext)"
   ]
  },
  {
   "cell_type": "code",
   "execution_count": null,
   "metadata": {
    "collapsed": false
   },
   "outputs": [],
   "source": [
    "with open('GithubREADMEs8190.csv', 'wb') as f:\n",
    "    for i in charactersremoved:\n",
    "        try:\n",
    "            f.write('\\\"' + str(i[:8190]).replace('\"', \"'\").replace('\\\\', ' ') + '\\\",' + str(len(i)) + '\\r\\n')\n",
    "        except:\n",
    "           f.write('\\\"' + i.encode('UTF-8').replace('\"', \"'\").replace('\\\\', ' ') + '\\\" \\r\\n')"
   ]
  }
 ],
 "metadata": {
  "kernelspec": {
   "display_name": "Python 3",
   "language": "python",
   "name": "python3"
  },
  "language_info": {
   "codemirror_mode": {
    "name": "ipython",
    "version": 3
   },
   "file_extension": ".py",
   "mimetype": "text/x-python",
   "name": "python",
   "nbconvert_exporter": "python",
   "pygments_lexer": "ipython3",
   "version": "3.5.0"
  }
 },
 "nbformat": 4,
 "nbformat_minor": 0
}
